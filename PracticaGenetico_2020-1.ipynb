{
 "cells": [
  {
   "cell_type": "markdown",
   "metadata": {},
   "source": [
    "<h1>Curso de Sistemas Inteligentes</h1>\n",
    "<h2>Práctica de Algoritmos Genéticos</h2>\n",
    "<h2>Periodo 2020-1</h2>\n",
    "\n",
    "A continuación se propone una plantilla para la implementación de un algoritmo genético genérico. En esta práctica deberá completarse este código para resolver una tarea específica. Primero se definen las funciones auxiliares genéricas, luego las funciones que se deben reescribir para una tarea particular y al final está el programa principal.\n",
    "Se supone que el individuo es una lista, su longitud depende del problema particular."
   ]
  },
  {
   "cell_type": "code",
   "execution_count": 78,
   "metadata": {},
   "outputs": [],
   "source": [
    "# This matrix will represent a representation for testing purposes of the task assignment problem.\n",
    "# The values mTest[i][j] = k means the operation i from task n on the machine j requires k units of time.\n",
    "# i refers to i % len(mTest[0]), n refers to int(i / len(mTest[0])), j refers to j + 1 for the purposes of this problem.\n",
    "# The values given as INF indicates that given operation cannot be done on that machine.\n",
    "# opOrder must be given as an input, indicating the tasks to which every operation belongs.\n",
    "# The same way as M, T, OP, which will be the number of machines, tasks and operations.\n",
    "from random import seed, randint, uniform\n",
    "from math import isnan\n",
    "from numpy.random import choice\n",
    "INF = float('inf')\n",
    "M, T, OP = 3, 3, 8\n",
    "opOrder = [0, 0, 0, 1, 1, 2, 2, 2]\n",
    "mTest = [[10, 8, INF], \n",
    "         [INF, 12, INF], \n",
    "         [4, 6, 5], \n",
    "         [11, 18, INF], \n",
    "         [20, INF, INF],\n",
    "         [INF, 12, 16], \n",
    "         [7, 12, 4], \n",
    "         [14, 11, 9]]"
   ]
  },
  {
   "cell_type": "code",
   "execution_count": 79,
   "metadata": {},
   "outputs": [],
   "source": [
    "# Función de selección\n",
    "# Elige dos individuos aleatoriamente que van a ser cruzados\n",
    "# generacion: lista de individuos que componen la generacion actual\n",
    "# Retorna las posiciones de dos individuos en la generacion\n",
    "def seleccion(generacion):\n",
    "    tGen = len(generacion)\n",
    "    ind1 = randint(0, tGen-1)\n",
    "    ind2 = ind1\n",
    "    while ind1 == ind2: ind2 = randint(0,tGen-1)\n",
    "    return (generacion[ind1], generacion[ind2])\n",
    "\n",
    "# gen = [[0, 0, 2, 2, 0, 0, 2, 2, 2], [2, 1, 0, 1, 1, 1, 1, 0, 0], [2, 0, 0, 1, 1, 1, 0, 0, 2], [1, 1, 0, 0, 1, 0, 0, 2, 0]]\n",
    "# a,b = seleccion(gen)\n",
    "# print(a)\n",
    "# print(b)"
   ]
  },
  {
   "cell_type": "code",
   "execution_count": 80,
   "metadata": {},
   "outputs": [],
   "source": [
    "# Roulette wheel selection or fitness selection. \n",
    "# First, I must evaluate the fitness of every chromosome within a generation. This will determine it's chance of being selected.\n",
    "# Once that's done, I will generate a random number between 0 and the sum of all the fitness values.\n",
    "# Now, I will start to add up the fitness values in a counter. \n",
    "# If that random number is greater than my counter, that means I haven't reached the selected individual.\n",
    "# On the contrary, if it isn't, I will select that chromosome and set it's probability of being selected to 0.\n",
    "def roulette(gen):\n",
    "    fit, ind = [fitness(i) for i in gen], [0, 0]\n",
    "    for j in range(len(ind)):\n",
    "        ind1 = uniform(0, sum(fit))\n",
    "        found = False\n",
    "        c, i = 0, 0\n",
    "        while(not found and i < len(gen)):\n",
    "            if(ind1 <= c): found = True\n",
    "            else:\n",
    "                c = c + fit[i]\n",
    "                i = i + 1\n",
    "        ind[j] = i - 1\n",
    "        fit[ind[j]] = 0\n",
    "    return ([gen[i] for i in ind])\n",
    "# gen = [[1, 1, 1, 0, 0, 2, 2, 2], [1, 1, 1, 1, 0, 2, 1, 1], [1, 1, 0, 1, 0, 2, 0, 1], [1, 1, 2, 0, 0, 1, 2, 0], [1, 1, 0, 1, 0, 1, 0, 0], [1, 1, 0, 1, 0, 1, 2, 0], [1, 1, 0, 2, 0, 1, 1, 2]]\n",
    "# optRoulette(gen)"
   ]
  },
  {
   "cell_type": "code",
   "execution_count": 81,
   "metadata": {},
   "outputs": [],
   "source": [
    "# Funcion de descarte de los individuos menos aptos\n",
    "# generacion: lista de individuos que componen la generacion actual\n",
    "# Retorna la generacion despues de eliminar la mitad menos apta\n",
    "def descarte(generacion):\n",
    "    tGen = len(generacion)\n",
    "    return (generacion[:tGen//2])\n",
    "# descarte(gen)"
   ]
  },
  {
   "cell_type": "code",
   "execution_count": 82,
   "metadata": {},
   "outputs": [],
   "source": [
    "# Funcion de cruce\n",
    "# Precondicion: ambos individuos tienen la misma longitud\n",
    "# ind1 e ind2 son individuos de la generacion actual\n",
    "#Retorna dos nuevos individuos obtenidos a partir de ind1 e ind2 por cruce\n",
    "def cruce(ind1,ind2):\n",
    "    tInd = len(ind1)\n",
    "    pivot = randint(0,tInd-1)\n",
    "    new1 = ind1[:pivot] + ind2[pivot:]\n",
    "    new2 = ind2[:pivot] + ind1[pivot:]\n",
    "    return (new1, new2)\n",
    "\n",
    "#cruce([0, 0, 2, 0, 0, 2, 0, 0, 2], [0, 2, 1, 2, 0, 1, 1, 0, 2])"
   ]
  },
  {
   "cell_type": "code",
   "execution_count": 83,
   "metadata": {},
   "outputs": [],
   "source": [
    "# Funcion de mutacion\n",
    "# ind es un individuo de la generacion actual\n",
    "# prob es un valor entre 0 y 1 que corresponde a la probabilidad de mutacion\n",
    "# Retorna un individuo que puede ser identico al que entró o puede tener un cambio aleatorio en una posicion\n",
    "def mutacion(ind, prob):\n",
    "    p = randint(1,100)\n",
    "    if p < prob*100: \n",
    "        tInd = len(ind)\n",
    "        q = randint(0,tInd-1)\n",
    "        ind[q] = randint(0, 2) # esto se debe ajustar de acuerdo a los valores adecuados para el individuo\n",
    "    return (ind)\n",
    "\n",
    "# mutacion([2, 2, 1, 2, 0, 0, 1, 1, 0],1.1)"
   ]
  },
  {
   "cell_type": "code",
   "execution_count": 84,
   "metadata": {},
   "outputs": [],
   "source": [
    "# Funcion newInd\n",
    "# Genera un nuevo individuo aleatorio\n",
    "# Retorna el individuo construido\n",
    "# Esta funcion debe ajustarse en terminos de la tarea que se vaya a resolver, pues la forma y longitud del individuo varian\n",
    "# Chromosome will be represented as a list, e.g. chr_1 = [1, 2, 2, 2, 1, 1, 2, 1, 0]\n",
    "# The value chr_1[i] = k means that the operation i of task j will be done in machine k.\n",
    "# Given n * n = len(chr_1), i refers to i % n, j refers to int(i / n) and k refers to k + 1\n",
    "# This is because the domain for the sets of this problem goes from 1 to N.\n",
    "def newInd():\n",
    "    ind = [randint(0, 2) for _ in range(OP)]\n",
    "    return ind\n",
    "\n",
    "# newInd()"
   ]
  },
  {
   "cell_type": "code",
   "execution_count": 85,
   "metadata": {},
   "outputs": [],
   "source": [
    "# Funcion primeraGen\n",
    "# nIndGen: numero de individuos por generacion\n",
    "# Retorna la primera generacion poblada con el numero de individuos requeridos\n",
    "# Esta funcion depende completamente del problema que se va a resolver, pues el individuo depende del problema\n",
    "def primeraGen(nIndGen):\n",
    "    generacion = []\n",
    "    while len(generacion) < nIndGen: generacion.append(newInd())\n",
    "    return generacion\n",
    "\n",
    "# primeraGen(10)"
   ]
  },
  {
   "cell_type": "code",
   "execution_count": null,
   "metadata": {},
   "outputs": [],
   "source": [
    "# Funcion fitness\n",
    "# ind: es un individuo de la generacion actual\n",
    "# Retorna un valor numerico que representa la aptitud del individuo\n",
    "# Esta funcion depende completamente del problema que se va a resolver, pues el puntaje asociado al individuo depende del problema\n",
    "# Minimizing the time C for the completion of an assignment of tasks means we must take the maximum time required to complete the tasks.\n",
    "# That's why the fitness function will be the max amount of time.\n",
    "# The arrays mTime and tTime represents the time for each machine and for each task, respectively.\n",
    "# Since I need to check the previous value, I must initialize these two arrays with the time of the first operation.\n",
    "# If the current operation is under the same task from the previous operation, I must check if that machine must wait before starting that operation.\n",
    "# If it needs to wait, that wait time is added. After that, the time of that operation is added to the total time for that task.\n",
    "# If the current operation is on a different task from the previous operation, I must add its time to the task time array.\n",
    "# Once that's done, that operation's time will be added to the machine time.\n",
    "# The score will be a normalized value done by dividing the maximum time from the three machines by the total time done by each machine.\n",
    "# If this score is nan a.k.a. INF/INF, it will have an assigned score of 1.\n",
    "# The lower the normalized value, the better, since it takes less time than the total amount. Because of this, the true score will be 1 - normalized value.\n",
    "\n",
    "def fitness(ind):\n",
    "    mTime, tTime = [0 for _ in range(M)], [0 for _ in range(T)]\n",
    "    mTime[ind[0]], tTime[ind[0]] = mTest[0][ind[0]], mTest[0][ind[0]]\n",
    "    for i in range(1, len(ind)):\n",
    "        if(opOrder[i] == opOrder[i - 1]):\n",
    "            mTime[ind[i]] = max(mTime[ind[i]], tTime[opOrder[i]]) + mTest[i][ind[i]]\n",
    "            tTime[opOrder[i]] += mTest[i][ind[i]]\n",
    "        else:\n",
    "            tTime[opOrder[i]] += mTest[i][ind[i]] + mTime[ind[i]]\n",
    "            mTime[ind[i]] += mTest[i][ind[i]]\n",
    "#         print(mTime)\n",
    "#         print(tTime)\n",
    "    score = max(mTime) / sum(mTime)\n",
    "    if(isnan(score)): score = 1\n",
    "    return 1 - score\n",
    "\n",
    "b = [1, 1, 1, 1, 0, 1, 1, 2]\n",
    "fitness(b)\n",
    "# a = [fitness(i) for i in gen]\n",
    "# print(gen)\n",
    "# print(a)"
   ]
  },
  {
   "cell_type": "code",
   "execution_count": 159,
   "metadata": {},
   "outputs": [
    {
     "name": "stdout",
     "output_type": "stream",
     "text": [
      "[[0, 1, 2, 1, 0, 2, 2, 1], [0, 1, 2, 1, 0, 2, 2, 1], [0, 1, 2, 1, 0, 2, 2, 1], [0, 1, 2, 1, 0, 1, 2, 1], [0, 1, 2, 1, 0, 1, 2, 2], [0, 1, 2, 1, 0, 1, 2, 2], [0, 1, 2, 1, 0, 2, 0, 1], [0, 1, 2, 1, 0, 2, 0, 1], [0, 1, 2, 1, 0, 2, 0, 1], [0, 1, 2, 1, 0, 2, 0, 1], [0, 1, 2, 1, 0, 2, 0, 1], [0, 1, 2, 1, 0, 2, 0, 1], [0, 1, 2, 1, 0, 2, 0, 1], [0, 1, 2, 1, 0, 2, 0, 1], [0, 1, 2, 1, 0, 2, 0, 1], [0, 1, 2, 1, 0, 2, 0, 1], [0, 1, 2, 1, 0, 2, 0, 1], [0, 1, 2, 1, 0, 2, 0, 1], [0, 1, 2, 1, 0, 2, 0, 1], [0, 1, 2, 1, 0, 2, 0, 1], [0, 1, 2, 1, 0, 2, 0, 1], [0, 1, 2, 1, 0, 2, 0, 1], [0, 1, 2, 1, 0, 2, 0, 1], [0, 1, 2, 1, 0, 2, 0, 1], [0, 1, 2, 1, 0, 2, 0, 1], [0, 1, 2, 1, 0, 2, 0, 1], [0, 1, 2, 1, 0, 2, 0, 1], [0, 1, 2, 1, 0, 2, 0, 1], [0, 1, 2, 1, 0, 2, 0, 1], [0, 1, 2, 1, 0, 2, 0, 1], [0, 1, 2, 1, 0, 2, 0, 1], [0, 1, 2, 1, 0, 2, 0, 1], [0, 1, 2, 1, 0, 2, 0, 1], [0, 1, 2, 1, 0, 2, 0, 1], [0, 1, 2, 1, 0, 2, 0, 1], [0, 1, 2, 1, 0, 2, 0, 1], [0, 1, 2, 1, 0, 2, 0, 1], [0, 1, 2, 1, 0, 2, 0, 1], [0, 1, 2, 1, 0, 2, 0, 1], [0, 1, 2, 1, 0, 2, 0, 1], [0, 1, 2, 1, 0, 2, 0, 1], [0, 1, 2, 1, 0, 2, 0, 1], [0, 1, 2, 1, 0, 2, 0, 1], [0, 1, 2, 1, 0, 2, 0, 1], [0, 1, 2, 1, 0, 2, 0, 1], [0, 1, 2, 1, 0, 2, 0, 1], [0, 1, 2, 1, 0, 2, 0, 1], [0, 1, 2, 1, 0, 2, 0, 1], [0, 1, 2, 1, 0, 2, 0, 1], [0, 1, 2, 1, 0, 2, 0, 2], [0, 1, 2, 1, 2, 2, 0, 1]] \n",
      "\n",
      "[0.6363636363636364, 0.6363636363636364, 0.6363636363636364, 0.6338797814207651, 0.6327683615819208, 0.6327683615819208, 0.6081871345029239, 0.6081871345029239, 0.6081871345029239, 0.6081871345029239, 0.6081871345029239, 0.6081871345029239, 0.6081871345029239, 0.6081871345029239, 0.6081871345029239, 0.6081871345029239, 0.6081871345029239, 0.6081871345029239, 0.6081871345029239, 0.6081871345029239, 0.6081871345029239, 0.6081871345029239, 0.6081871345029239, 0.6081871345029239, 0.6081871345029239, 0.6081871345029239, 0.6081871345029239, 0.6081871345029239, 0.6081871345029239, 0.6081871345029239, 0.6081871345029239, 0.6081871345029239, 0.6081871345029239, 0.6081871345029239, 0.6081871345029239, 0.6081871345029239, 0.6081871345029239, 0.6081871345029239, 0.6081871345029239, 0.6081871345029239, 0.6081871345029239, 0.6081871345029239, 0.6081871345029239, 0.6081871345029239, 0.6081871345029239, 0.6081871345029239, 0.6081871345029239, 0.6081871345029239, 0.6081871345029239, 0.5963855421686747, 0]\n",
      "--- 0.0663602352142334 seconds ---\n"
     ]
    }
   ],
   "source": [
    "# Funcion general\n",
    "# nIndGen: numero de individuos por generacion\n",
    "# nGen: numero de generaciones que realizara el algoritmo\n",
    "# pMut: probabilidad de mutacion\n",
    "from time import time\n",
    "start_time = time()\n",
    "def genetico(nIndGen,nGen,pMut, function):\n",
    "    generacion = primeraGen(nIndGen)\n",
    "    while nGen > 0:\n",
    "        generacion.sort(reverse = True, key = fitness)\n",
    "        generacion = descarte(generacion)\n",
    "        children = []\n",
    "        while len(children) + len(generacion) < nIndGen:\n",
    "            parent1, parent2 = function(generacion)\n",
    "            child1, child2 = cruce(parent1,parent2)\n",
    "            child1 = mutacion(child1, pMut)\n",
    "            child2 = mutacion(child2, pMut)\n",
    "            children.append(child1)\n",
    "            children.append(child2)\n",
    "        generacion = generacion + children\n",
    "        nGen = nGen - 1\n",
    "    generacion.sort(reverse = True, key = fitness)\n",
    "    print(generacion,\"\\n\")\n",
    "    return [ fitness(i) for i in generacion]\n",
    "#     return generacion\n",
    "print(genetico(50, 4, 0.1, roulette))\n",
    "print(\"--- %s seconds ---\" % (time() - start_time))"
   ]
  },
  {
   "cell_type": "code",
   "execution_count": null,
   "metadata": {},
   "outputs": [],
   "source": []
  }
 ],
 "metadata": {
  "kernelspec": {
   "display_name": "Python 3",
   "language": "python",
   "name": "python3"
  },
  "language_info": {
   "codemirror_mode": {
    "name": "ipython",
    "version": 3
   },
   "file_extension": ".py",
   "mimetype": "text/x-python",
   "name": "python",
   "nbconvert_exporter": "python",
   "pygments_lexer": "ipython3",
   "version": "3.6.9"
  }
 },
 "nbformat": 4,
 "nbformat_minor": 2
}
